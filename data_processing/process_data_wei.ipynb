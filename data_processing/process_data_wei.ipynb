{
  "nbformat": 4,
  "nbformat_minor": 0,
  "metadata": {
    "colab": {
      "name": "process_data.ipynb",
      "provenance": [],
      "include_colab_link": true
    },
    "kernelspec": {
      "name": "python3",
      "display_name": "Python 3"
    }
  },
  "cells": [
    {
      "cell_type": "markdown",
      "metadata": {
        "id": "view-in-github",
        "colab_type": "text"
      },
      "source": [
        "<a href=\"https://colab.research.google.com/github/w-sheng/cis519_final_project/blob/master/process_data_wei.ipynb\" target=\"_parent\"><img src=\"https://colab.research.google.com/assets/colab-badge.svg\" alt=\"Open In Colab\"/></a>"
      ]
    },
    {
      "cell_type": "code",
      "metadata": {
        "id": "s-tOADv2DNDa",
        "colab_type": "code",
        "colab": {}
      },
      "source": [
        "import pandas as pd\n",
        "import numpy as np\n",
        "import json\n",
        "import os\n",
        "\n",
        "#change this to your name\n",
        "sender = \"Annie Su\"\n",
        "\n",
        "output_file = \"out.txt\"\n",
        "\n",
        "#change this path to be wherever your downloaded messages directory is\n",
        "relative_path = 'messages_dir/inbox'\n",
        "\n",
        "def iterate_over_working_directory(relative_path, output_file):\n",
        "\tout = open(output_file, \"w\")\n",
        "\tfor subdir, dirs, files in os.walk(relative_path):\n",
        "\t\tfor file in files:\n",
        "\t\t\tif (file.endswith('.json')):\n",
        "\t\t\t\tparse_json_and_write_to_txt(os.path.join(subdir, file), out)\n",
        "\tout.close()\t\t\n",
        "\n",
        "def parse_json_and_write_to_txt(json_filename, out):\n",
        "  with open(json_filename, 'r') as f:\n",
        "    json_dict = json.load(f)\n",
        "\n",
        "  for item in json_dict[\"messages\"]:\n",
        "  \tif (item[\"sender_name\"] == sender):\n",
        "  \t\tfor x in item:\n",
        "  \t\t\tif (x == 'content'):\n",
        "  \t\t\t\tout.write(item[x] + '\\n')\n",
        "\n",
        "iterate_over_working_directory(relative_path, output_file)\n"
      ],
      "execution_count": 0,
      "outputs": []
    },
    {
      "cell_type": "code",
      "metadata": {
        "id": "Eqils9j2DXrY",
        "colab_type": "code",
        "colab": {}
      },
      "source": [
        "sent = []\n",
        "with open('out.txt') as f:\n",
        "  for l in f:\n",
        "    sent.append(l)"
      ],
      "execution_count": 0,
      "outputs": []
    },
    {
      "cell_type": "code",
      "metadata": {
        "id": "Z7yWxXgNDTxE",
        "colab_type": "code",
        "outputId": "1a0e20ad-321f-4de1-e57e-10043e8e1936",
        "colab": {
          "base_uri": "https://localhost:8080/",
          "height": 34
        }
      },
      "source": [
        "len(sent)"
      ],
      "execution_count": 0,
      "outputs": [
        {
          "output_type": "execute_result",
          "data": {
            "text/plain": [
              "226766"
            ]
          },
          "metadata": {
            "tags": []
          },
          "execution_count": 4
        }
      ]
    },
    {
      "cell_type": "code",
      "metadata": {
        "id": "iX523I5WDUlz",
        "colab_type": "code",
        "colab": {}
      },
      "source": [
        "vocab = {}\n",
        "for t in sent:\n",
        "  words = t.split(' ')\n",
        "  for w in words:\n",
        "    if w in vocab:\n",
        "      vocab[w] += 1\n",
        "    else:\n",
        "      vocab[w] = 1"
      ],
      "execution_count": 0,
      "outputs": []
    },
    {
      "cell_type": "code",
      "metadata": {
        "id": "CW4grL1-EPaf",
        "colab_type": "code",
        "outputId": "9c3846cc-6a24-4b71-f0e3-4046f061246f",
        "colab": {
          "base_uri": "https://localhost:8080/",
          "height": 34
        }
      },
      "source": [
        "len(vocab)"
      ],
      "execution_count": 0,
      "outputs": [
        {
          "output_type": "execute_result",
          "data": {
            "text/plain": [
              "78314"
            ]
          },
          "metadata": {
            "tags": []
          },
          "execution_count": 6
        }
      ]
    },
    {
      "cell_type": "code",
      "metadata": {
        "id": "GTKvhpIhEQys",
        "colab_type": "code",
        "colab": {}
      },
      "source": [
        "import operator\n",
        "sorted_vocab = sorted(vocab.items(), key=operator.itemgetter(1), reverse=True)"
      ],
      "execution_count": 0,
      "outputs": []
    },
    {
      "cell_type": "code",
      "metadata": {
        "id": "yurf5EZvEd7S",
        "colab_type": "code",
        "outputId": "e4901897-ecfc-4261-84f2-7de45ca763da",
        "colab": {
          "base_uri": "https://localhost:8080/",
          "height": 867
        }
      },
      "source": [
        "n = 50\n",
        "words = []\n",
        "freq = []\n",
        "for l in sorted_vocab:\n",
        "  print(l)\n",
        "  (w,f) = l\n",
        "  words.append(w)\n",
        "  freq.append(f)\n",
        "  n -= 1\n",
        "  if (n == 0):\n",
        "    break"
      ],
      "execution_count": 0,
      "outputs": [
        {
          "output_type": "stream",
          "text": [
            "('i', 32298)\n",
            "('the', 21101)\n",
            "('to', 19465)\n",
            "('a', 17116)\n",
            "('you', 15901)\n",
            "('and', 13080)\n",
            "('I', 12964)\n",
            "('is', 12121)\n",
            "('for', 10740)\n",
            "('so', 10324)\n",
            "('lol\\n', 9561)\n",
            "('in', 9512)\n",
            "('it', 9455)\n",
            "('like', 8975)\n",
            "('but', 7971)\n",
            "('do', 7586)\n",
            "('my', 7405)\n",
            "('was', 6908)\n",
            "('of', 6572)\n",
            "('just', 6454)\n",
            "('on', 6451)\n",
            "('at', 6447)\n",
            "('be', 6365)\n",
            "('have', 6341)\n",
            "('u', 5900)\n",
            "('that', 5888)\n",
            "('LOL\\n', 5738)\n",
            "('this', 5658)\n",
            "('think', 5622)\n",
            "('not', 5428)\n",
            "('are', 5406)\n",
            "('we', 5236)\n",
            "('if', 5198)\n",
            "('its', 4938)\n",
            "('can', 4821)\n",
            "('ok', 4798)\n",
            "('or', 4625)\n",
            "('im', 4622)\n",
            "('me', 4363)\n",
            "('with', 3889)\n",
            "('what', 3691)\n",
            "('up', 3483)\n",
            "('good', 3281)\n",
            "('ya', 3181)\n",
            "('no', 3101)\n",
            "('did', 3086)\n",
            "('too', 3012)\n",
            "('also', 2962)\n",
            "('all', 2953)\n",
            "(':(\\n', 2875)\n"
          ],
          "name": "stdout"
        }
      ]
    },
    {
      "cell_type": "code",
      "metadata": {
        "id": "KpDrioFrExE_",
        "colab_type": "code",
        "outputId": "dffce169-741d-45e8-9d09-b74e9cc7aead",
        "colab": {
          "base_uri": "https://localhost:8080/",
          "height": 473
        }
      },
      "source": [
        "import matplotlib.pyplot as plt; plt.rcdefaults()\n",
        "import numpy as np\n",
        "import matplotlib.pyplot as plt\n",
        "\n",
        "plt.bar(words, freq)\n",
        "plt.xticks(words, rotation='vertical')\n",
        "plt.ylabel('Word')\n",
        "plt.title('Frequency')\n",
        "\n",
        "plt.show()"
      ],
      "execution_count": 0,
      "outputs": [
        {
          "output_type": "display_data",
          "data": {
            "image/png": "[encoded data removed]",
            "text/plain": [
              "<Figure size 640x480 with 1 Axes>"
            ]
          },
          "metadata": {
            "tags": []
          }
        }
      ]
    },
    {
      "cell_type": "code",
      "metadata": {
        "id": "x1lGatweFuuj",
        "colab_type": "code",
        "colab": {}
      },
      "source": [
        "caps = []\n",
        "no_caps = []\n",
        "\n",
        "for w in vocab.keys():\n",
        "  if (len(w) >= 1):\n",
        "    if (w[0].isupper()):\n",
        "      caps.append(w)\n",
        "    else:\n",
        "      no_caps.append(w)"
      ],
      "execution_count": 0,
      "outputs": []
    },
    {
      "cell_type": "code",
      "metadata": {
        "id": "3dJjHkNHGtp3",
        "colab_type": "code",
        "outputId": "aff1ab55-fd8b-4fe3-adb3-b53d0dab30e0",
        "colab": {
          "base_uri": "https://localhost:8080/",
          "height": 34
        }
      },
      "source": [
        "len(caps)"
      ],
      "execution_count": 0,
      "outputs": [
        {
          "output_type": "execute_result",
          "data": {
            "text/plain": [
              "15889"
            ]
          },
          "metadata": {
            "tags": []
          },
          "execution_count": 11
        }
      ]
    },
    {
      "cell_type": "code",
      "metadata": {
        "id": "lzhY4NfxGuOU",
        "colab_type": "code",
        "outputId": "86568ccd-2a23-4cba-d31e-0fd4d4501326",
        "colab": {
          "base_uri": "https://localhost:8080/",
          "height": 34
        }
      },
      "source": [
        "len(no_caps)"
      ],
      "execution_count": 0,
      "outputs": [
        {
          "output_type": "execute_result",
          "data": {
            "text/plain": [
              "62424"
            ]
          },
          "metadata": {
            "tags": []
          },
          "execution_count": 12
        }
      ]
    },
    {
      "cell_type": "code",
      "metadata": {
        "id": "Jc8EN5q6Gvzc",
        "colab_type": "code",
        "outputId": "a88372d6-09e4-468f-e9f5-bc4860373937",
        "colab": {
          "base_uri": "https://localhost:8080/",
          "height": 51
        }
      },
      "source": [
        "num_char = 0\n",
        "num_words = 0\n",
        "for l in sent:\n",
        "  num_char += len(l)\n",
        "  num_words += len(l.split(' '))\n",
        "\n",
        "print(num_char/len(sent))\n",
        "print(num_words/len(sent))"
      ],
      "execution_count": 0,
      "outputs": [
        {
          "output_type": "stream",
          "text": [
            "27.26492507695157\n",
            "5.379832073591279\n"
          ],
          "name": "stdout"
        }
      ]
    },
    {
      "cell_type": "code",
      "metadata": {
        "id": "lFeJ2rI-yGhg",
        "colab_type": "code",
        "colab": {}
      },
      "source": [
        "import re\n",
        "# regexes\n",
        "lol_dict = {}\n",
        "haha_dict = {}\n",
        "\n",
        "for l in sent:\n",
        "  mLol = re.findall(r'[Ll]+\\s*[Oo]+\\s*[Ll]+', l)\n",
        "  # mHaha = re.findall(r'([Hh][Aa])+', l)\n",
        "  mHaha = re.findall(r'([Hh]+\\s*[Aa]+)\\s+', l)\n",
        "\n",
        "  # get correct match\n",
        "  lolmatch = None\n",
        "  hahamatch = None\n",
        "  if mLol:\n",
        "    if type(mLol) is list:\n",
        "      lolmatch = mLol[0]\n",
        "    else:\n",
        "      lolmatch = mLol\n",
        "  if mHaha:\n",
        "    if type(mHaha) is list:\n",
        "      hahamatch = mHaha[0]\n",
        "    else:\n",
        "      hahamatch = mHaha\n",
        "\n",
        "  # update frequencies\n",
        "  if lolmatch in lol_dict:\n",
        "    lol_dict[lolmatch] += 1\n",
        "  else:\n",
        "    lol_dict[lolmatch] = 1\n",
        "  \n",
        "  if hahamatch in haha_dict:\n",
        "    haha_dict[hahamatch] += 1\n",
        "  else:\n",
        "    haha_dict[hahamatch] = 1"
      ],
      "execution_count": 0,
      "outputs": []
    },
    {
      "cell_type": "code",
      "metadata": {
        "id": "--5HAKdH4Zcf",
        "colab_type": "code",
        "outputId": "636c393c-cd3b-4ae1-d8fe-55797f32c621",
        "colab": {
          "base_uri": "https://localhost:8080/",
          "height": 1000
        }
      },
      "source": [
        "import operator\n",
        "lol_dict = sorted(lol_dict.items(), key=operator.itemgetter(1), reverse=True)\n",
        "\n",
        "for l in lol_dict:\n",
        "  print(l)"
      ],
      "execution_count": 0,
      "outputs": [
        {
          "output_type": "stream",
          "text": [
            "('lol', 12527)\n",
            "('LOL', 7552)\n",
            "('LOOL', 1252)\n",
            "('LOOOL', 1214)\n",
            "('Lol', 772)\n",
            "('loool', 568)\n",
            "('looool', 397)\n",
            "('LOOOOL', 378)\n",
            "('loooool', 195)\n",
            "('LOOOOOL', 159)\n",
            "('lool', 119)\n",
            "('l o l', 93)\n",
            "('looooool', 82)\n",
            "('Looool', 76)\n",
            "('LOOOOOOL', 67)\n",
            "('Loooool', 55)\n",
            "('Loool', 55)\n",
            "('LOOOOOOOL', 39)\n",
            "('loooooool', 38)\n",
            "('lOL', 31)\n",
            "('L O L', 27)\n",
            "('Looooool', 26)\n",
            "('L o l', 24)\n",
            "('l ol', 21)\n",
            "('looooooool', 21)\n",
            "('lo l', 17)\n",
            "('Loooooool', 16)\n",
            "('LOOOOOOOOL', 14)\n",
            "('LOOOOOOOOOL', 11)\n",
            "('LOLL', 8)\n",
            "('LOOOOOOOOOOOL', 8)\n",
            "('Looooooool', 8)\n",
            "('Lo l', 7)\n",
            "('loooooooool', 7)\n",
            "('l O l', 7)\n",
            "('llol', 6)\n",
            "('llo l', 6)\n",
            "('LOOOOOOOOOOL', 6)\n",
            "('LOl', 6)\n",
            "('Loooooooool', 6)\n",
            "('looooooooool', 6)\n",
            "('LO L', 5)\n",
            "('LLOL', 5)\n",
            "('lolll', 5)\n",
            "('LLOOL', 4)\n",
            "('L OL', 4)\n",
            "('loo l', 4)\n",
            "('looooooooooool', 3)\n",
            "('lOOL', 3)\n",
            "('lLOL', 3)\n",
            "('LOLLL', 3)\n",
            "('loll', 3)\n",
            "('llooool', 2)\n",
            "('L O l', 2)\n",
            "('Looooooooooool', 2)\n",
            "('lloooool', 2)\n",
            "('lOOOL', 2)\n",
            "('lo L', 2)\n",
            "('llo L', 2)\n",
            "('loooooooooool', 1)\n",
            "('LOOLL', 1)\n",
            "('LoL', 1)\n",
            "('LOOOLL', 1)\n",
            "('ll ol', 1)\n",
            "('lo  l', 1)\n",
            "('LOLLLL', 1)\n",
            "('ll OL', 1)\n",
            "('loOL', 1)\n",
            "('looooooooooOOOOOOoool', 1)\n",
            "('Lolllll', 1)\n",
            "('Loooooooooooooooool', 1)\n",
            "('LOOOOOOOOOOOOOOOOL', 1)\n",
            "('Lolllllll', 1)\n",
            "('Lollllll', 1)\n",
            "('llooooool', 1)\n",
            "('looooooOOOOOOOL', 1)\n",
            "('LOO L', 1)\n",
            "('loo L', 1)\n",
            "('Loooooooooooooool', 1)\n",
            "('LOOOOOOOOOOOOOOOOOOOOOOOL', 1)\n",
            "('lollllll', 1)\n",
            "('Lloooool', 1)\n",
            "('LLOOOOOOL', 1)\n",
            "('Looooo l', 1)\n",
            "('L O LLL', 1)\n",
            "('LOOl', 1)\n",
            "('LOOOOOOOOOOOOL', 1)\n",
            "('loooll', 1)\n",
            "('LLOOOL', 1)\n",
            "('LLOOOOL', 1)\n",
            "('LoooooooOoOoOl', 1)\n",
            "('l o  l', 1)\n",
            "('LOOOooooL', 1)\n",
            "('LOLLLLLL', 1)\n",
            "('lolllllllllLLLll', 1)\n",
            "('looooOOOOL', 1)\n",
            "('LOLLLLL', 1)\n",
            "('looOOL', 1)\n",
            "('looooooooooooool', 1)\n",
            "('LOOOOOOOOOOOOOL', 1)\n",
            "('LLO L', 1)\n",
            "('LOOOOOOOOLL', 1)\n",
            "('lollll', 1)\n",
            "('LOOOl', 1)\n",
            "('LOO l', 1)\n",
            "('lolllll', 1)\n",
            "('lOOOOL', 1)\n",
            "('LOOO L', 1)\n",
            "('LLOOOOOL', 1)\n",
            "('Lo L', 1)\n",
            "('l  o l', 1)\n",
            "('Lolll', 1)\n",
            "('l o llll', 1)\n"
          ],
          "name": "stdout"
        }
      ]
    },
    {
      "cell_type": "code",
      "metadata": {
        "id": "dWblXXyI6XqM",
        "colab_type": "code",
        "outputId": "63666b62-0fca-4b4f-e352-fb12c02c7c47",
        "colab": {
          "base_uri": "https://localhost:8080/",
          "height": 629
        }
      },
      "source": [
        "import operator\n",
        "haha_dict = sorted(haha_dict.items(), key=operator.itemgetter(1), reverse=True)\n",
        "\n",
        "for h in haha_dict:\n",
        "  print(h)"
      ],
      "execution_count": 0,
      "outputs": [
        {
          "output_type": "stream",
          "text": [
            "(None, 218015)\n",
            "('ha', 4238)\n",
            "('HA', 2688)\n",
            "('h a', 603)\n",
            "('HHA', 383)\n",
            "('hha', 247)\n",
            "('HHAA', 165)\n",
            "('hhaa', 129)\n",
            "('haa', 88)\n",
            "('HAA', 83)\n",
            "('Ha', 28)\n",
            "('haaa', 27)\n",
            "('haaaa', 16)\n",
            "('H A', 14)\n",
            "('haaaaa', 9)\n",
            "('HAAA', 5)\n",
            "('hhh a', 4)\n",
            "('H a', 3)\n",
            "('hhhaa', 2)\n",
            "('HHHA', 2)\n",
            "('hhha', 2)\n",
            "('h  a', 1)\n",
            "('hhhhh AA', 1)\n",
            "('hhaaaaaa', 1)\n",
            "('HAa', 1)\n",
            "('hhHa', 1)\n",
            "('hhaaa', 1)\n",
            "('hh a', 1)\n",
            "('HAAAA', 1)\n",
            "('hhhhh a', 1)\n",
            "('HHHAA', 1)\n",
            "('Hha', 1)\n",
            "('hHa', 1)\n",
            "('hhhh a', 1)\n",
            "('HAAAAAAAA', 1)\n",
            "('hhhhhh a', 1)\n"
          ],
          "name": "stdout"
        }
      ]
    },
    {
      "cell_type": "code",
      "metadata": {
        "id": "qWUPV_L560q8",
        "colab_type": "code",
        "colab": {}
      },
      "source": [
        ""
      ],
      "execution_count": 0,
      "outputs": []
    }
  ]
}
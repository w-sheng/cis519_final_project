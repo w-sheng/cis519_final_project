{
  "nbformat": 4,
  "nbformat_minor": 0,
  "metadata": {
    "colab": {
      "name": "process_data.ipynb",
      "provenance": [],
      "include_colab_link": true
    },
    "kernelspec": {
      "name": "python3",
      "display_name": "Python 3"
    }
  },
  "cells": [
    {
      "cell_type": "markdown",
      "metadata": {
        "id": "view-in-github",
        "colab_type": "text"
      },
      "source": [
        "<a href=\"https://colab.research.google.com/github/w-sheng/cis519_final_project/blob/master/process_data.ipynb\" target=\"_parent\"><img src=\"https://colab.research.google.com/assets/colab-badge.svg\" alt=\"Open In Colab\"/></a>"
      ]
    },
    {
      "cell_type": "code",
      "metadata": {
        "id": "s-tOADv2DNDa",
        "colab_type": "code",
        "colab": {}
      },
      "source": [
        "import pandas as pd\n",
        "import numpy as np\n",
        "import json\n",
        "import os\n",
        "\n",
        "#change this to your name\n",
        "sender = \"Michael Lu\"\n",
        "\n",
        "output_file = \"out.txt\"\n",
        "\n",
        "#change this path to be wherever your downloaded messages directory is\n",
        "relative_path = 'messages_dir/inbox'\n",
        "\n",
        "def iterate_over_working_directory(relative_path, output_file):\n",
        "\tout = open(output_file, \"w\")\n",
        "\tfor subdir, dirs, files in os.walk(relative_path):\n",
        "\t\tfor file in files:\n",
        "\t\t\tif (file.endswith('.json')):\n",
        "\t\t\t\tparse_json_and_write_to_txt(os.path.join(subdir, file), out)\n",
        "\tout.close()\t\t\n",
        "\n",
        "def parse_json_and_write_to_txt(json_filename, out):\n",
        "  with open(json_filename, 'r') as f:\n",
        "    json_dict = json.load(f)\n",
        "\n",
        "  for item in json_dict[\"messages\"]:\n",
        "  \tif (item[\"sender_name\"] == sender):\n",
        "  \t\tfor x in item:\n",
        "  \t\t\tif (x == 'content'):\n",
        "  \t\t\t\tout.write(item[x] + '\\n')\n",
        "\n",
        "iterate_over_working_directory(relative_path, output_file)\n"
      ],
      "execution_count": 0,
      "outputs": []
    },
    {
      "cell_type": "code",
      "metadata": {
        "id": "Eqils9j2DXrY",
        "colab_type": "code",
        "colab": {}
      },
      "source": [
        ""
      ],
      "execution_count": 0,
      "outputs": []
    }
  ]
}